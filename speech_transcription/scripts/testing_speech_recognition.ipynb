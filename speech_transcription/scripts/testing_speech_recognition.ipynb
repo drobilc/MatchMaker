{
 "cells": [
  {
   "cell_type": "code",
   "execution_count": 6,
   "metadata": {},
   "outputs": [
    {
     "output_type": "stream",
     "name": "stdout",
     "text": "Listening...\nGot it, transcribing...\n"
    },
    {
     "output_type": "execute_result",
     "data": {
      "text/plain": "u'hey you'"
     },
     "metadata": {},
     "execution_count": 6
    }
   ],
   "source": [
    "import speech_recognition as sr\n",
    "\n",
    "recognizer = sr.Recognizer()\n",
    "mic = sr.Microphone()\n",
    "\n",
    "# Listen to the source and save input to audio variable\n",
    "print(\"Listening...\")\n",
    "with mic as source:\n",
    "    # Use the first second of the recording for adjusting to the ambient noise\n",
    "    #recognizer.adjust_for_ambient_noise(source, duration=1) # default duration is 1 second\n",
    "    audio = recognizer.listen(source)\n",
    "    # There should be silence after you stop talking so it knows when to stop listening\n",
    "\n",
    "print(\"Got it, transcribing...\")\n",
    "recognizer.recognize_google(audio)"
   ]
  }
 ],
 "metadata": {
  "language_info": {
   "codemirror_mode": {
    "name": "ipython",
    "version": 2
   },
   "file_extension": ".py",
   "mimetype": "text/x-python",
   "name": "python",
   "nbconvert_exporter": "python",
   "pygments_lexer": "ipython2",
   "version": "2.7.12-final"
  },
  "orig_nbformat": 2,
  "kernelspec": {
   "name": "python271264bit96fcb31628cc44b09d0cc9dbcc77b073",
   "display_name": "Python 2.7.12 64-bit"
  }
 },
 "nbformat": 4,
 "nbformat_minor": 2
}